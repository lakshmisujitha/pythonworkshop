{
 "cells": [
  {
   "cell_type": "markdown",
   "metadata": {},
   "source": [
    "# Day Objectives\n",
    "## Creating contacts using Dictionaries\n",
    "## searching for a contact\n",
    "## Packages and Modules\n",
    "## Regular Expression and\n",
    "## File Handing"
   ]
  },
  {
   "cell_type": "code",
   "execution_count": 3,
   "metadata": {},
   "outputs": [
    {
     "data": {
      "text/plain": [
       "{'k1': 'name', 'k2': 'age', 'k3': 'number'}"
      ]
     },
     "execution_count": 3,
     "metadata": {},
     "output_type": "execute_result"
    }
   ],
   "source": [
    "\n",
    "d={'k1':\"name\",'k2':\"age\",\"k3\":\"number\"}\n",
    "dict(d)"
   ]
  },
  {
   "cell_type": "code",
   "execution_count": 6,
   "metadata": {},
   "outputs": [
    {
     "data": {
      "text/plain": [
       "dict_items([('k1', 'name'), ('k2', 'age'), ('k3', 'number')])"
      ]
     },
     "execution_count": 6,
     "metadata": {},
     "output_type": "execute_result"
    }
   ],
   "source": [
    "d.items()"
   ]
  },
  {
   "cell_type": "code",
   "execution_count": 7,
   "metadata": {},
   "outputs": [
    {
     "name": "stdout",
     "output_type": "stream",
     "text": [
      "contact add sucessfully\n"
     ]
    }
   ],
   "source": [
    "## Adding a contact\n",
    "## name,phone number\n",
    "contacts={}\n",
    "def addcontact(name,phonenumber):\n",
    "    if name not in contacts:\n",
    "        contacts[name]=phonenumber\n",
    "        print(\"contact add sucessfully\")\n",
    "    else:\n",
    "        print(\"contact already exists\")\n",
    "addcontact('name',1234567891)"
   ]
  },
  {
   "cell_type": "code",
   "execution_count": 8,
   "metadata": {},
   "outputs": [
    {
     "name": "stdout",
     "output_type": "stream",
     "text": [
      "contact add sucessfully\n"
     ]
    }
   ],
   "source": [
    "addcontact('sujitha',8463964453)"
   ]
  },
  {
   "cell_type": "code",
   "execution_count": 9,
   "metadata": {},
   "outputs": [
    {
     "name": "stdout",
     "output_type": "stream",
     "text": [
      "name : 1234567891\n"
     ]
    }
   ],
   "source": [
    "## searching a contact\n",
    "## using key\"name\"\n",
    "def searchcontact(name):\n",
    "    if name in contacts:\n",
    "        print(name,\":\",contacts[name])\n",
    "    else:\n",
    "        print(\"doesnot exists\")\n",
    "searchcontact('name')"
   ]
  },
  {
   "cell_type": "code",
   "execution_count": 10,
   "metadata": {},
   "outputs": [
    {
     "name": "stdout",
     "output_type": "stream",
     "text": [
      "sujitha : 8463964453\n"
     ]
    }
   ],
   "source": [
    "searchcontact('sujitha')"
   ]
  },
  {
   "cell_type": "code",
   "execution_count": 13,
   "metadata": {},
   "outputs": [
    {
     "name": "stdout",
     "output_type": "stream",
     "text": [
      "2\n"
     ]
    }
   ],
   "source": [
    "## merging two contacts we use update\n",
    "# using update method\n",
    "def mergecontacts(newcontacts):\n",
    "    contacts.update(newcontacts)\n",
    "    print(len(newcontacts.keys())),\"contact added sucessfully\"\n",
    "    \n",
    "newcontacts={'name2':1234567890,'name3':9963656985}    \n",
    "mergecontacts(newcontacts)"
   ]
  },
  {
   "cell_type": "code",
   "execution_count": 14,
   "metadata": {},
   "outputs": [
    {
     "data": {
      "text/plain": [
       "{'name': 1234567891,\n",
       " 'sujitha': 8463964453,\n",
       " 'name2': 1234567890,\n",
       " 'name3': 9963656985}"
      ]
     },
     "execution_count": 14,
     "metadata": {},
     "output_type": "execute_result"
    }
   ],
   "source": [
    "contacts"
   ]
  },
  {
   "cell_type": "code",
   "execution_count": 26,
   "metadata": {},
   "outputs": [],
   "source": [
    "## Dictionary:Mobliecontacts\n",
    "## Add a contact\n",
    "## Key:'a',value:9989870478\n",
    "## Another Dictionary:Applemoblie\n",
    "## Key:'b',value:9989870478\n",
    "mobliecontacts={}\n",
    "def mobliecontacts(name,phonenumber):\n",
    "    contacts[name]=phonenumber\n",
    "    if name in contacts:\n",
    "        print(\"contact add sucessfully\")\n",
    "    else:\n",
    "        print(\"contact already exits\")\n",
    "\n",
    "    "
   ]
  },
  {
   "cell_type": "code",
   "execution_count": 27,
   "metadata": {},
   "outputs": [
    {
     "name": "stdout",
     "output_type": "stream",
     "text": [
      "contact add sucessfully\n"
     ]
    }
   ],
   "source": [
    "mobliecontacts('suji',9989870478)"
   ]
  },
  {
   "cell_type": "markdown",
   "metadata": {},
   "source": [
    "## Packages and Modules\n",
    "## packages->collection of Modules\n",
    "## Modules->collection of functions"
   ]
  },
  {
   "cell_type": "code",
   "execution_count": 28,
   "metadata": {},
   "outputs": [
    {
     "data": {
      "text/plain": [
       "123"
      ]
     },
     "execution_count": 28,
     "metadata": {},
     "output_type": "execute_result"
    }
   ],
   "source": [
    "from math import floor\n",
    "floor(123.45678)"
   ]
  },
  {
   "cell_type": "code",
   "execution_count": 37,
   "metadata": {},
   "outputs": [
    {
     "ename": "ModuleNotFoundError",
     "evalue": "No module named 'packages'",
     "output_type": "error",
     "traceback": [
      "\u001b[1;31m---------------------------------------------------------------------------\u001b[0m",
      "\u001b[1;31mModuleNotFoundError\u001b[0m                       Traceback (most recent call last)",
      "\u001b[1;32m<ipython-input-37-e5a9f9998449>\u001b[0m in \u001b[0;36m<module>\u001b[1;34m()\u001b[0m\n\u001b[1;32m----> 1\u001b[1;33m \u001b[1;32mfrom\u001b[0m \u001b[0mpackages\u001b[0m\u001b[1;33m.\u001b[0m\u001b[0mnatural\u001b[0m \u001b[1;32mimport\u001b[0m \u001b[0mnaturalnumber\u001b[0m\u001b[1;33m\u001b[0m\u001b[0m\n\u001b[0m\u001b[0;32m      2\u001b[0m \u001b[0mnaturalnumber\u001b[0m\u001b[1;33m(\u001b[0m\u001b[1;36m10\u001b[0m\u001b[1;33m)\u001b[0m\u001b[1;33m\u001b[0m\u001b[0m\n",
      "\u001b[1;31mModuleNotFoundError\u001b[0m: No module named 'packages'"
     ]
    }
   ],
   "source": [
    "from packages.natural import naturalnumber\n",
    "naturalnumber(10)"
   ]
  },
  {
   "cell_type": "code",
   "execution_count": 38,
   "metadata": {},
   "outputs": [
    {
     "name": "stdout",
     "output_type": "stream",
     "text": [
      "73\n",
      "51\n",
      "96\n",
      "5\n",
      "96\n",
      "41\n",
      "78\n",
      "92\n",
      "49\n",
      "15\n"
     ]
    }
   ],
   "source": [
    "## generating marks using \"random\" perbuilt function\n",
    "import random\n",
    "def generatemarks(n,lb,ub):\n",
    "    for i in range(0,n):\n",
    "        print(random.randint(lb,ub))\n",
    "generatemarks(10,0,100)"
   ]
  },
  {
   "cell_type": "code",
   "execution_count": 40,
   "metadata": {},
   "outputs": [
    {
     "name": "stdout",
     "output_type": "stream",
     "text": [
      "21\n",
      "7\n",
      "21\n",
      "21\n",
      "25\n",
      "6\n",
      "19\n",
      "7\n",
      "12\n",
      "5\n",
      "17\n",
      "16\n",
      "12\n",
      "19\n",
      "18\n",
      "6\n",
      "14\n",
      "24\n",
      "23\n",
      "6\n",
      "19\n",
      "16\n",
      "4\n",
      "0\n",
      "22\n"
     ]
    }
   ],
   "source": [
    "## generating marks for 25students\n",
    "import random\n",
    "def generate(n,lb,ub):\n",
    "    for i in range(0,n):\n",
    "        print(random.randint(lb,ub))\n",
    "generate(25,0,25)"
   ]
  },
  {
   "cell_type": "markdown",
   "metadata": {},
   "source": [
    "# Regular Expression\n",
    "# sequence of character that match with a particular pattern\n",
    "#### regular expression work with string\n",
    "### [] -represent a character\n",
    "### ^ -mathchs the begining\n",
    "### $-maths the ending\n",
    "### *-number of occurcences(zero also)\n",
    "### +-number of occurences(from 1)\n",
    "### . - to mathch the character\n",
    "### ? -for zero or once occurrence\n",
    "### | -or\n",
    "### {} - Range set\n"
   ]
  },
  {
   "cell_type": "markdown",
   "metadata": {},
   "source": [
    "#### Regular Expressions\n",
    "- [0-9]->Any didist\n",
    "- [a-z]->Any lower.case alphabet\n",
    "- [2468]->All single digitmultiples of 2\n",
    "- ^[0-9]{1}$->only single digits numbers\n",
    "- ^[0-9]{3}$->only 3 digits numbers\n",
    "- ^[0-9]*0$->all multiples of 10\n",
    "- ^([1-9][0-9]*[05])('[5]')->All multiplacing\n",
    "- [w][0][r][d]or (word)->searching for a 'word'"
   ]
  },
  {
   "cell_type": "markdown",
   "metadata": {},
   "source": [
    "### Regular Expression\n",
    "#### Phone Number:Pattern=[6-9][0-9]{9}"
   ]
  },
  {
   "cell_type": "code",
   "execution_count": 50,
   "metadata": {},
   "outputs": [],
   "source": [
    "## Function for phonenumber validation using\n",
    "## Regular Expression\n",
    "import re\n",
    "def phonenumbervalidator(number):\n",
    "    pattern='^[6-9][0-9]{9}$'\n",
    "    if re.match(pattern,number):\n",
    "        print(\"valid\")\n",
    "    else:\n",
    "        print(\"Invalid\")\n",
    "    "
   ]
  },
  {
   "cell_type": "code",
   "execution_count": 57,
   "metadata": {},
   "outputs": [
    {
     "name": "stdout",
     "output_type": "stream",
     "text": [
      "Invalid\n"
     ]
    }
   ],
   "source": [
    "phonenumbervalidator('0992348802')"
   ]
  },
  {
   "cell_type": "code",
   "execution_count": 56,
   "metadata": {},
   "outputs": [
    {
     "name": "stdout",
     "output_type": "stream",
     "text": [
      "valid\n"
     ]
    }
   ],
   "source": [
    "def phonenumbervalidator(number):\n",
    "    number=str(number)\n",
    "    pattern='^[6-9][0-9]{9}$'\n",
    "    if re.match(pattern,number):\n",
    "        print(\"valid\")\n",
    "    else:\n",
    "        print(\"Invalid\")\n",
    "phonenumbervalidator(9092348802)   "
   ]
  },
  {
   "cell_type": "code",
   "execution_count": 59,
   "metadata": {},
   "outputs": [
    {
     "name": "stdout",
     "output_type": "stream",
     "text": [
      "invalid\n"
     ]
    }
   ],
   "source": [
    "## Email divided in 3parts -username  Domain Extention\n",
    "# pattern for email validation\n",
    "## Email id :username, domain,extension\n",
    "## pattern:'^[a-z0-9][a-z0-9_.]{3,18}'-username \n",
    "##         :[a-z0-9]{4,18}-domain\n",
    "##         :[.][a-z]{2,4}-extension   \n",
    "import re\n",
    "def emailvalidator(email):\n",
    "    pattern='^[a-z0-9][a-z0-9_.]{3,18}[a-z0-9]{4,18}[.][a-z]{2,4}$'\n",
    "    if re.match(pattern,email):\n",
    "        print('valid')\n",
    "    else:\n",
    "        print('invalid')\n",
    "emailvalidator('kodetisujitha3@gmali.com')"
   ]
  },
  {
   "cell_type": "markdown",
   "metadata": {},
   "source": [
    "## File Handling\n",
    "#### - It's a collection of releted information\n",
    "-basic steps\n",
    "  - opening a flie\n",
    "  - performing opertions(red , write ,append)\n",
    "  - closing a file"
   ]
  },
  {
   "cell_type": "markdown",
   "metadata": {},
   "source": [
    "## syntax:file_obj=open(\"filepath\",'mode')"
   ]
  },
  {
   "cell_type": "code",
   "execution_count": 3,
   "metadata": {},
   "outputs": [
    {
     "ename": "FileNotFoundError",
     "evalue": "[Errno 2] No such file or directory: 'DataFiles/data.txt'",
     "output_type": "error",
     "traceback": [
      "\u001b[1;31m---------------------------------------------------------------------------\u001b[0m",
      "\u001b[1;31mFileNotFoundError\u001b[0m                         Traceback (most recent call last)",
      "\u001b[1;32m<ipython-input-3-7b41b9b72dbd>\u001b[0m in \u001b[0;36m<module>\u001b[1;34m()\u001b[0m\n\u001b[1;32m----> 1\u001b[1;33m \u001b[0mf\u001b[0m\u001b[1;33m=\u001b[0m\u001b[0mopen\u001b[0m\u001b[1;33m(\u001b[0m\u001b[1;34m\"DataFiles/data.txt\"\u001b[0m\u001b[1;33m,\u001b[0m\u001b[1;34m\"r\"\u001b[0m\u001b[1;33m)\u001b[0m\u001b[1;33m\u001b[0m\u001b[0m\n\u001b[0m\u001b[0;32m      2\u001b[0m \u001b[0mprint\u001b[0m\u001b[1;33m(\u001b[0m\u001b[0mf\u001b[0m\u001b[1;33m.\u001b[0m\u001b[0mread\u001b[0m\u001b[1;33m(\u001b[0m\u001b[1;33m)\u001b[0m\u001b[1;33m)\u001b[0m\u001b[1;33m\u001b[0m\u001b[0m\n\u001b[0;32m      3\u001b[0m \u001b[0mf\u001b[0m\u001b[1;33m.\u001b[0m\u001b[0mclose\u001b[0m\u001b[1;33m(\u001b[0m\u001b[1;33m)\u001b[0m\u001b[1;33m\u001b[0m\u001b[0m\n",
      "\u001b[1;31mFileNotFoundError\u001b[0m: [Errno 2] No such file or directory: 'DataFiles/data.txt'"
     ]
    }
   ],
   "source": [
    "f=open(\"datafiles/data.txt\",\"a\")\n",
    "print(f.read())\n",
    "f.close()\n"
   ]
  },
  {
   "cell_type": "code",
   "execution_count": null,
   "metadata": {},
   "outputs": [],
   "source": []
  },
  {
   "cell_type": "code",
   "execution_count": null,
   "metadata": {},
   "outputs": [],
   "source": []
  }
 ],
 "metadata": {
  "kernelspec": {
   "display_name": "Python 3",
   "language": "python",
   "name": "python3"
  },
  "language_info": {
   "codemirror_mode": {
    "name": "ipython",
    "version": 3
   },
   "file_extension": ".py",
   "mimetype": "text/x-python",
   "name": "python",
   "nbconvert_exporter": "python",
   "pygments_lexer": "ipython3",
   "version": "3.6.5"
  }
 },
 "nbformat": 4,
 "nbformat_minor": 2
}
