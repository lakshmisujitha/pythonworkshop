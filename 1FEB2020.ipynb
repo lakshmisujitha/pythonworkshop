{
 "cells": [
  {
   "cell_type": "markdown",
   "metadata": {},
   "source": [
    "# Numpy"
   ]
  },
  {
   "cell_type": "code",
   "execution_count": 5,
   "metadata": {},
   "outputs": [
    {
     "name": "stdout",
     "output_type": "stream",
     "text": [
      "[ 2  5  6 89  8]\n",
      "<class 'numpy.ndarray'>\n"
     ]
    }
   ],
   "source": [
    "import numpy as np\n",
    "array_1d=np.array([2,5,6,89,8])\n",
    "print(array_1d)\n",
    "print(type(array_1d))"
   ]
  },
  {
   "cell_type": "code",
   "execution_count": 6,
   "metadata": {},
   "outputs": [
    {
     "name": "stdout",
     "output_type": "stream",
     "text": [
      "[[3 5 7]\n",
      " [2 5 6]]\n"
     ]
    }
   ],
   "source": [
    "array_2d=np.array([[3,5,7],[2,5,6]])\n",
    "print(array_2d)"
   ]
  },
  {
   "cell_type": "code",
   "execution_count": 7,
   "metadata": {},
   "outputs": [
    {
     "data": {
      "text/plain": [
       "array([3, 6, 2, 8])"
      ]
     },
     "execution_count": 7,
     "metadata": {},
     "output_type": "execute_result"
    }
   ],
   "source": [
    "li=[3,6,2,8]\n",
    "array=np.array(li)\n",
    "array"
   ]
  },
  {
   "cell_type": "code",
   "execution_count": 8,
   "metadata": {},
   "outputs": [
    {
     "name": "stdout",
     "output_type": "stream",
     "text": [
      "[3 6 2 8]\n"
     ]
    }
   ],
   "source": [
    "print(array)"
   ]
  },
  {
   "cell_type": "code",
   "execution_count": 9,
   "metadata": {},
   "outputs": [],
   "source": [
    "array2=np.arange(15) #by useing arange we give number then we get numbers upto the given number in 1dementional array"
   ]
  },
  {
   "cell_type": "code",
   "execution_count": 10,
   "metadata": {},
   "outputs": [
    {
     "name": "stdout",
     "output_type": "stream",
     "text": [
      "[[ 0  1  2  3  4]\n",
      " [ 5  6  7  8  9]\n",
      " [10 11 12 13 14]]\n"
     ]
    }
   ],
   "source": [
    "array3=array2.reshape(3,5)\n",
    "print(array3)"
   ]
  },
  {
   "cell_type": "code",
   "execution_count": 11,
   "metadata": {},
   "outputs": [
    {
     "data": {
      "text/plain": [
       "2"
      ]
     },
     "execution_count": 11,
     "metadata": {},
     "output_type": "execute_result"
    }
   ],
   "source": [
    "array3[0,2] #using slicing"
   ]
  },
  {
   "cell_type": "code",
   "execution_count": 12,
   "metadata": {},
   "outputs": [
    {
     "data": {
      "text/plain": [
       "7"
      ]
     },
     "execution_count": 12,
     "metadata": {},
     "output_type": "execute_result"
    }
   ],
   "source": [
    "array3[1,2]"
   ]
  },
  {
   "cell_type": "code",
   "execution_count": 13,
   "metadata": {},
   "outputs": [
    {
     "data": {
      "text/plain": [
       "array([[10, 11, 12, 13, 14],\n",
       "       [ 5,  6,  7,  8,  9],\n",
       "       [ 0,  1,  2,  3,  4]])"
      ]
     },
     "execution_count": 13,
     "metadata": {},
     "output_type": "execute_result"
    }
   ],
   "source": [
    "array3[::-1]"
   ]
  },
  {
   "cell_type": "code",
   "execution_count": 14,
   "metadata": {},
   "outputs": [
    {
     "name": "stdout",
     "output_type": "stream",
     "text": [
      "[[ 0  1  2  3  4]\n",
      " [ 5  6  7  8  9]\n",
      " [10 11 12 13 14]]\n"
     ]
    }
   ],
   "source": [
    "array4=np.arange(15).reshape(3,5)\n",
    "print(array4)"
   ]
  },
  {
   "cell_type": "code",
   "execution_count": 15,
   "metadata": {},
   "outputs": [
    {
     "data": {
      "text/plain": [
       "array([[ 0,  2,  4,  6,  8],\n",
       "       [10, 12, 14, 16, 18],\n",
       "       [20, 22, 24, 26, 28]])"
      ]
     },
     "execution_count": 15,
     "metadata": {},
     "output_type": "execute_result"
    }
   ],
   "source": [
    "array3+array4 #for adding matrices the matrices must be in with same diementions"
   ]
  },
  {
   "cell_type": "code",
   "execution_count": 16,
   "metadata": {},
   "outputs": [
    {
     "name": "stderr",
     "output_type": "stream",
     "text": [
      "C:\\Users\\aliet23\\Anaconda3\\lib\\site-packages\\ipykernel_launcher.py:1: RuntimeWarning: invalid value encountered in true_divide\n",
      "  \"\"\"Entry point for launching an IPython kernel.\n"
     ]
    },
    {
     "data": {
      "text/plain": [
       "array([[nan,  1.,  1.,  1.,  1.],\n",
       "       [ 1.,  1.,  1.,  1.,  1.],\n",
       "       [ 1.,  1.,  1.,  1.,  1.]])"
      ]
     },
     "execution_count": 16,
     "metadata": {},
     "output_type": "execute_result"
    }
   ],
   "source": [
    "array3/array4"
   ]
  },
  {
   "cell_type": "code",
   "execution_count": 17,
   "metadata": {},
   "outputs": [
    {
     "data": {
      "text/plain": [
       "array([[ 5,  6,  7,  8,  9],\n",
       "       [10, 11, 12, 13, 14],\n",
       "       [15, 16, 17, 18, 19]])"
      ]
     },
     "execution_count": 17,
     "metadata": {},
     "output_type": "execute_result"
    }
   ],
   "source": [
    "array4+5"
   ]
  },
  {
   "cell_type": "code",
   "execution_count": 18,
   "metadata": {},
   "outputs": [
    {
     "name": "stdout",
     "output_type": "stream",
     "text": [
      "[[[ 0  1]\n",
      "  [ 2  3]\n",
      "  [ 4  5]\n",
      "  [ 6  7]\n",
      "  [ 8  9]]\n",
      "\n",
      " [[10 11]\n",
      "  [12 13]\n",
      "  [14 15]\n",
      "  [16 17]\n",
      "  [18 19]]]\n"
     ]
    }
   ],
   "source": [
    "array5=np.arange(20).reshape(2,5,2)\n",
    "print(array5)"
   ]
  },
  {
   "cell_type": "code",
   "execution_count": 19,
   "metadata": {},
   "outputs": [
    {
     "data": {
      "text/plain": [
       "array([[[ 4,  5],\n",
       "        [ 6,  7],\n",
       "        [ 8,  9],\n",
       "        [10, 11],\n",
       "        [12, 13]],\n",
       "\n",
       "       [[14, 15],\n",
       "        [16, 17],\n",
       "        [18, 19],\n",
       "        [20, 21],\n",
       "        [22, 23]]])"
      ]
     },
     "execution_count": 19,
     "metadata": {},
     "output_type": "execute_result"
    }
   ],
   "source": [
    "array5+4"
   ]
  },
  {
   "cell_type": "code",
   "execution_count": 20,
   "metadata": {},
   "outputs": [
    {
     "name": "stdout",
     "output_type": "stream",
     "text": [
      "[[[ 0.          0.84147098]\n",
      "  [ 0.90929743  0.14112001]\n",
      "  [-0.7568025  -0.95892427]\n",
      "  [-0.2794155   0.6569866 ]\n",
      "  [ 0.98935825  0.41211849]]\n",
      "\n",
      " [[-0.54402111 -0.99999021]\n",
      "  [-0.53657292  0.42016704]\n",
      "  [ 0.99060736  0.65028784]\n",
      "  [-0.28790332 -0.96139749]\n",
      "  [-0.75098725  0.14987721]]]\n"
     ]
    }
   ],
   "source": [
    "print(np.sin(array5))"
   ]
  },
  {
   "cell_type": "code",
   "execution_count": 21,
   "metadata": {},
   "outputs": [
    {
     "name": "stdout",
     "output_type": "stream",
     "text": [
      "[[[ 1.          0.54030231]\n",
      "  [-0.41614684 -0.9899925 ]\n",
      "  [-0.65364362  0.28366219]\n",
      "  [ 0.96017029  0.75390225]\n",
      "  [-0.14550003 -0.91113026]]\n",
      "\n",
      " [[-0.83907153  0.0044257 ]\n",
      "  [ 0.84385396  0.90744678]\n",
      "  [ 0.13673722 -0.75968791]\n",
      "  [-0.95765948 -0.27516334]\n",
      "  [ 0.66031671  0.98870462]]]\n"
     ]
    }
   ],
   "source": [
    "print(np.cos(array5))"
   ]
  },
  {
   "cell_type": "code",
   "execution_count": 22,
   "metadata": {},
   "outputs": [
    {
     "name": "stdout",
     "output_type": "stream",
     "text": [
      "[[[      -inf 0.        ]\n",
      "  [0.69314718 1.09861229]\n",
      "  [1.38629436 1.60943791]\n",
      "  [1.79175947 1.94591015]\n",
      "  [2.07944154 2.19722458]]\n",
      "\n",
      " [[2.30258509 2.39789527]\n",
      "  [2.48490665 2.56494936]\n",
      "  [2.63905733 2.7080502 ]\n",
      "  [2.77258872 2.83321334]\n",
      "  [2.89037176 2.94443898]]]\n"
     ]
    },
    {
     "name": "stderr",
     "output_type": "stream",
     "text": [
      "C:\\Users\\aliet23\\Anaconda3\\lib\\site-packages\\ipykernel_launcher.py:1: RuntimeWarning: divide by zero encountered in log\n",
      "  \"\"\"Entry point for launching an IPython kernel.\n"
     ]
    }
   ],
   "source": [
    "print(np.log(array5))"
   ]
  },
  {
   "cell_type": "code",
   "execution_count": 23,
   "metadata": {},
   "outputs": [
    {
     "name": "stdout",
     "output_type": "stream",
     "text": [
      "[[[0.         1.        ]\n",
      "  [1.41421356 1.73205081]\n",
      "  [2.         2.23606798]\n",
      "  [2.44948974 2.64575131]\n",
      "  [2.82842712 3.        ]]\n",
      "\n",
      " [[3.16227766 3.31662479]\n",
      "  [3.46410162 3.60555128]\n",
      "  [3.74165739 3.87298335]\n",
      "  [4.         4.12310563]\n",
      "  [4.24264069 4.35889894]]]\n"
     ]
    }
   ],
   "source": [
    "print(np.sqrt(array5))"
   ]
  },
  {
   "cell_type": "code",
   "execution_count": 24,
   "metadata": {},
   "outputs": [
    {
     "name": "stdout",
     "output_type": "stream",
     "text": [
      "[[[      -inf 0.        ]\n",
      "  [0.69314718 1.09861229]\n",
      "  [1.38629436 1.60943791]\n",
      "  [1.79175947 1.94591015]\n",
      "  [2.07944154 2.19722458]]\n",
      "\n",
      " [[2.30258509 2.39789527]\n",
      "  [2.48490665 2.56494936]\n",
      "  [2.63905733 2.7080502 ]\n",
      "  [2.77258872 2.83321334]\n",
      "  [2.89037176 2.94443898]]]\n"
     ]
    },
    {
     "name": "stderr",
     "output_type": "stream",
     "text": [
      "C:\\Users\\aliet23\\Anaconda3\\lib\\site-packages\\ipykernel_launcher.py:1: RuntimeWarning: divide by zero encountered in log\n",
      "  \"\"\"Entry point for launching an IPython kernel.\n"
     ]
    }
   ],
   "source": [
    "print(np.log(array5))"
   ]
  },
  {
   "cell_type": "code",
   "execution_count": 25,
   "metadata": {},
   "outputs": [
    {
     "name": "stdout",
     "output_type": "stream",
     "text": [
      "[[ 0  1  2  3  4  5]\n",
      " [ 6  7  8  9 10 11]\n",
      " [12 13 14 15 16 17]\n",
      " [18 19 20 21 22 23]\n",
      " [24 25 26 27 28 29]]\n"
     ]
    }
   ],
   "source": [
    "array6=np.arange(30).reshape(5,6)\n",
    "print(array6)"
   ]
  },
  {
   "cell_type": "code",
   "execution_count": 26,
   "metadata": {},
   "outputs": [
    {
     "data": {
      "text/plain": [
       "array([[ 5,  6,  7,  8,  9, 10],\n",
       "       [11, 12, 13, 14, 15, 16],\n",
       "       [17, 18, 19, 20, 21, 22],\n",
       "       [23, 24, 25, 26, 27, 28],\n",
       "       [29, 30, 31, 32, 33, 34]])"
      ]
     },
     "execution_count": 26,
     "metadata": {},
     "output_type": "execute_result"
    }
   ],
   "source": [
    "array6+5"
   ]
  },
  {
   "cell_type": "code",
   "execution_count": 27,
   "metadata": {},
   "outputs": [
    {
     "name": "stdout",
     "output_type": "stream",
     "text": [
      "[[0.         1.         1.41421356 1.73205081 2.         2.23606798]\n",
      " [2.44948974 2.64575131 2.82842712 3.         3.16227766 3.31662479]\n",
      " [3.46410162 3.60555128 3.74165739 3.87298335 4.         4.12310563]\n",
      " [4.24264069 4.35889894 4.47213595 4.58257569 4.69041576 4.79583152]\n",
      " [4.89897949 5.         5.09901951 5.19615242 5.29150262 5.38516481]]\n"
     ]
    }
   ],
   "source": [
    "a=(np.sqrt(array6))\n",
    "print(a)"
   ]
  },
  {
   "cell_type": "code",
   "execution_count": 28,
   "metadata": {},
   "outputs": [
    {
     "name": "stdout",
     "output_type": "stream",
     "text": [
      "[[ 1.          0.54030231  0.15594369 -0.16055654 -0.41614684 -0.61727288]\n",
      " [-0.76990573 -0.87956873 -0.95136313 -0.9899925  -0.99978607 -0.98472094]\n",
      " [-0.9484432  -0.89428806 -0.82529906 -0.74424627 -0.65364362 -0.55576539]\n",
      " [-0.45266186 -0.34617416 -0.23794839 -0.129449   -0.02197145  0.08334575]\n",
      " [ 0.18550967  0.28366219  0.37706981  0.46511405  0.54728232  0.62315934]]\n"
     ]
    }
   ],
   "source": [
    "print(np.cos(a))"
   ]
  },
  {
   "cell_type": "code",
   "execution_count": 29,
   "metadata": {},
   "outputs": [
    {
     "name": "stdout",
     "output_type": "stream",
     "text": [
      "[[ 0.          0.84147098  0.98776595  0.98702664  0.90929743  0.78674913]\n",
      " [ 0.63815764  0.47577184  0.30807174  0.14112001 -0.02068353 -0.17413978]\n",
      " [-0.31694716 -0.44749175 -0.5646959  -0.6679053  -0.7568025  -0.83133918]\n",
      " [-0.89168225 -0.93817027 -0.9712778  -0.99158608 -0.9997586  -0.99652069]\n",
      " [-0.98264244 -0.95892427 -0.92618484 -0.88525077 -0.83694807 -0.7820949 ]]\n"
     ]
    }
   ],
   "source": [
    "print(np.sin(a))"
   ]
  },
  {
   "cell_type": "code",
   "execution_count": 30,
   "metadata": {},
   "outputs": [
    {
     "name": "stdout",
     "output_type": "stream",
     "text": [
      "[[      -inf 0.         0.34657359 0.54930614 0.69314718 0.80471896]\n",
      " [0.89587973 0.97295507 1.03972077 1.09861229 1.15129255 1.19894764]\n",
      " [1.24245332 1.28247468 1.31952866 1.3540251  1.38629436 1.41660667]\n",
      " [1.44518588 1.47221949 1.49786614 1.52226122 1.54552123 1.56774711]\n",
      " [1.58902692 1.60943791 1.62904827 1.64791843 1.66610226 1.68364791]]\n"
     ]
    },
    {
     "name": "stderr",
     "output_type": "stream",
     "text": [
      "C:\\Users\\aliet23\\Anaconda3\\lib\\site-packages\\ipykernel_launcher.py:1: RuntimeWarning: divide by zero encountered in log\n",
      "  \"\"\"Entry point for launching an IPython kernel.\n"
     ]
    }
   ],
   "source": [
    "print(np.log(a))"
   ]
  },
  {
   "cell_type": "markdown",
   "metadata": {},
   "source": [
    "# Task"
   ]
  },
  {
   "cell_type": "code",
   "execution_count": 31,
   "metadata": {},
   "outputs": [
    {
     "name": "stdout",
     "output_type": "stream",
     "text": [
      "[[3 5 7]\n",
      " [2 5 6]]\n"
     ]
    }
   ],
   "source": [
    "array_2d=np.array([[3,5,7],[2,5,6]])\n",
    "print(array_2d)"
   ]
  },
  {
   "cell_type": "markdown",
   "metadata": {},
   "source": [
    "# k th largest frequency\n"
   ]
  },
  {
   "cell_type": "code",
   "execution_count": 32,
   "metadata": {},
   "outputs": [],
   "source": [
    "def secondlargest(li):\n",
    "    #Construct the list intoa unquie list\n",
    "    #o(n)\n",
    "    unique = []\n",
    "    freq ={}\n",
    "    for n in li:\n",
    "        if n not in unique:\n",
    "            unique.append(n)\n",
    "            \n",
    "    unique = sorted(unique, reverse=True)\n",
    "    if len(unique) >1:\n",
    "        return unique[1]\n",
    "    return -1"
   ]
  },
  {
   "cell_type": "code",
   "execution_count": 33,
   "metadata": {},
   "outputs": [
    {
     "data": {
      "text/plain": [
       "-1"
      ]
     },
     "execution_count": 33,
     "metadata": {},
     "output_type": "execute_result"
    }
   ],
   "source": [
    "secondlargest([1])"
   ]
  },
  {
   "cell_type": "code",
   "execution_count": 34,
   "metadata": {},
   "outputs": [
    {
     "data": {
      "text/plain": [
       "-1"
      ]
     },
     "execution_count": 34,
     "metadata": {},
     "output_type": "execute_result"
    }
   ],
   "source": [
    "# def largest(li,k)\n",
    "def klargest(li,k):\n",
    "    #Extract unique element in the list\n",
    "    unique =[]\n",
    "    for i in li:\n",
    "        if i not in unique:\n",
    "            unique.append(i)\n",
    "            #sort the unique list in ascending order\n",
    "    unique = sorted(unique,reverse=True)\n",
    "    \n",
    "#check if length of unique list is greater than k\n",
    "    if len(unique)>=k:\n",
    "        return unique[k-1]\n",
    "    return -1\n",
    "klargest([],1)"
   ]
  },
  {
   "cell_type": "code",
   "execution_count": 35,
   "metadata": {},
   "outputs": [
    {
     "data": {
      "text/plain": [
       "1"
      ]
     },
     "execution_count": 35,
     "metadata": {},
     "output_type": "execute_result"
    }
   ],
   "source": [
    "#Function to identify the element with high frequency in a list\n",
    "#If element have the highest frequency \n",
    "#highestFrequencyelements[1,2,3,9,8,7,3,4,2,1]->1\n",
    "def highestfrequencyelement(li):\n",
    "    #Extracting unquie element with frequencises\n",
    "    unique ={}\n",
    "    for n in li:\n",
    "        if n in unique:\n",
    "            unique[n] += 1\n",
    "    else:\n",
    "        unique[n]=1\n",
    "#unique ={1:2,2:2,3:2,9:1,8:1,7:1,4:1}\n",
    "    maxfreq= max(unique.values())\n",
    "    #Extract all keys with maxfreq in a list\n",
    "    maxfreqkeys =[]\n",
    "    for item in unique.items():\n",
    "        #item ->(keys,values)\n",
    "        # item[1]\n",
    "        if item[1]== maxfreq:\n",
    "            maxfreqkeys.append(item[0])\n",
    "    return min(maxfreqkeys)\n",
    "highestfrequencyelement([1,2,3,4,5,6,7,8,1])"
   ]
  },
  {
   "cell_type": "code",
   "execution_count": 36,
   "metadata": {},
   "outputs": [
    {
     "data": {
      "text/plain": [
       "1"
      ]
     },
     "execution_count": 36,
     "metadata": {},
     "output_type": "execute_result"
    }
   ],
   "source": [
    "def ksmallest(li,k):\n",
    "    #Extract unique element in the list\n",
    "    li=[1,3,4,5,3]\n",
    "    unique =[]\n",
    "    for i in li:\n",
    "        if i not in unique:\n",
    "            unique.append(i)\n",
    "            #sort the unique list in ascending order\n",
    "    unique = sorted(unique)\n",
    "    \n",
    "#check if length of unique list is greater than k\n",
    "    if len(unique)>=k:\n",
    "        return unique[k-1]\n",
    "    return -1\n",
    "ksmallest([],1)"
   ]
  },
  {
   "cell_type": "code",
   "execution_count": 37,
   "metadata": {},
   "outputs": [
    {
     "data": {
      "text/plain": [
       "7"
      ]
     },
     "execution_count": 37,
     "metadata": {},
     "output_type": "execute_result"
    }
   ],
   "source": [
    "def fivethlargest(li):\n",
    "    #Construct the list intoa unquie list\n",
    "    #o(n)\n",
    "    li=[1,5,5,9,2,5,7,3,5]\n",
    "    unique = []\n",
    "    freq ={}\n",
    "    for n in li:\n",
    "        if n not in unique:\n",
    "            unique.append(n)\n",
    "            \n",
    "    unique = sorted(unique, reverse=True)\n",
    "    if len(unique) >4:\n",
    "        return unique[1]\n",
    "    return -1\n",
    "fivethlargest(li)"
   ]
  },
  {
   "cell_type": "code",
   "execution_count": 38,
   "metadata": {},
   "outputs": [
    {
     "data": {
      "text/plain": [
       "1"
      ]
     },
     "execution_count": 38,
     "metadata": {},
     "output_type": "execute_result"
    }
   ],
   "source": [
    "# functionto identify second  highest frequency element\n",
    "#If there are many such elements, return the smallest\n",
    "#[1,2,3,2,1,4,4,9] ->3\n",
    "def frequencyelement(li):\n",
    "    unique ={}\n",
    "    for n in li:\n",
    "        if n in unique:\n",
    "            unique[n] += 1\n",
    "    else:\n",
    "        unique[n]=1\n",
    "    maxfreq= max(unique.values())\n",
    "    maxfreqkeys =[]\n",
    "    for item in unique.items():\n",
    "        if item[1]== maxfreq:\n",
    "            maxfreqkeys.append(item[1])\n",
    "    return min(maxfreqkeys)\n",
    "frequencyelement([1,2,6,8,9,8])\n"
   ]
  },
  {
   "cell_type": "code",
   "execution_count": 39,
   "metadata": {},
   "outputs": [
    {
     "data": {
      "text/plain": [
       "True"
      ]
     },
     "execution_count": 39,
     "metadata": {},
     "output_type": "execute_result"
    }
   ],
   "source": [
    "#problem: special number\n",
    "# A special number is defined as a number which as least, p-distinct(means not similar) prime factors\n",
    "# write a program to deterimine whether a number n is a special number\n",
    "# i/p:p second line :T (number of test cases) Next t lines: N\n",
    "# o/p:for each test case,print yes or no depending on the result\n",
    "    # Function to check if number is prime\n",
    "def isspecialnumber(n,p):\n",
    "    if numberofprimefactor(n) >=p:\n",
    "        return True\n",
    "    return False\n",
    "def isprime(n):\n",
    "    flag =1\n",
    "    if n==2:\n",
    "        return True\n",
    "    for i in range(2,n//2 +1):\n",
    "        if n % 1 ==0:\n",
    "            flag=0\n",
    "            return False\n",
    "    if flag == 1:\n",
    "        return True\n",
    "   #Function to determine number of  prime for a given number\n",
    "def numberofprimefactor(n):\n",
    "    if isprime(n):\n",
    "        return 1\n",
    "    count = 0\n",
    "    for i in range(2, n//2 + 1):\n",
    "        if isprime(i) and n%i ==0:\n",
    "            count +=1\n",
    "    return count\n",
    "\n",
    "def solution2():\n",
    "    p=int(input())\n",
    "    t=int(input())\n",
    "    for i in range(0,t):\n",
    "        n= int(input())\n",
    "        if isspecialnumber(n,p):\n",
    "            print(\"yes\")\n",
    "        else:\n",
    "            print(\"No\")\n",
    "isspecialnumber(30,2)"
   ]
  },
  {
   "cell_type": "code",
   "execution_count": 40,
   "metadata": {},
   "outputs": [
    {
     "data": {
      "text/plain": [
       "1"
      ]
     },
     "execution_count": 40,
     "metadata": {},
     "output_type": "execute_result"
    }
   ],
   "source": [
    "numberofprimefactor(4)"
   ]
  },
  {
   "cell_type": "code",
   "execution_count": 41,
   "metadata": {},
   "outputs": [
    {
     "data": {
      "text/plain": [
       "False"
      ]
     },
     "execution_count": 41,
     "metadata": {},
     "output_type": "execute_result"
    }
   ],
   "source": [
    "isprime(5)"
   ]
  },
  {
   "cell_type": "code",
   "execution_count": null,
   "metadata": {},
   "outputs": [],
   "source": [
    "solution2()"
   ]
  },
  {
   "cell_type": "code",
   "execution_count": null,
   "metadata": {},
   "outputs": [],
   "source": []
  }
 ],
 "metadata": {
  "kernelspec": {
   "display_name": "Python 3",
   "language": "python",
   "name": "python3"
  }
 },
 "nbformat": 4,
 "nbformat_minor": 2
}
