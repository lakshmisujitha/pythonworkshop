{
 "cells": [
  {
   "cell_type": "code",
   "execution_count": 1,
   "metadata": {},
   "outputs": [
    {
     "name": "stdout",
     "output_type": "stream",
     "text": [
      "we\n"
     ]
    }
   ],
   "source": [
    "z=input()"
   ]
  },
  {
   "cell_type": "code",
   "execution_count": 2,
   "metadata": {},
   "outputs": [
    {
     "name": "stdout",
     "output_type": "stream",
     "text": [
      " enter string madam\n",
      "x is pal\n"
     ]
    }
   ],
   "source": [
    "x=input(\" enter string \")\n",
    "y=x[::-1]\n",
    "if(x==y):\n",
    "    print(\"x is pal\")\n",
    "else:\n",
    "    print(\"x is not a pal\")"
   ]
  },
  {
   "cell_type": "code",
   "execution_count": 3,
   "metadata": {},
   "outputs": [
    {
     "name": "stdout",
     "output_type": "stream",
     "text": [
      "enter a stringsuji\n",
      "enter a stringijsu\n",
      "not an identical\n"
     ]
    }
   ],
   "source": [
    "s1=input(\"enter a string\")\n",
    "s2=input(\"enter a string\")\n",
    "if s1==s2:\n",
    "    print(\"identical\")\n",
    "else:\n",
    "    print(\"not an identical\")"
   ]
  },
  {
   "cell_type": "markdown",
   "metadata": {},
   "source": [
    "## Functions \n",
    "## Functions in python defined by a keyword \"def\""
   ]
  },
  {
   "cell_type": "code",
   "execution_count": 2,
   "metadata": {},
   "outputs": [],
   "source": [
    "## Write a program for finding leap year\n",
    "def isLeapyear(year):\n",
    "    if(year%400==0) or (year%4==0 and year%100!=0):\n",
    "        print(\"year is a leap year\")\n",
    "    else:\n",
    "        print(\"year is not a leap year\")"
   ]
  },
  {
   "cell_type": "code",
   "execution_count": 3,
   "metadata": {},
   "outputs": [
    {
     "name": "stdout",
     "output_type": "stream",
     "text": [
      "year is not a leap year\n"
     ]
    }
   ],
   "source": [
    "isLeapyear(2019)"
   ]
  },
  {
   "cell_type": "code",
   "execution_count": 4,
   "metadata": {},
   "outputs": [
    {
     "name": "stdout",
     "output_type": "stream",
     "text": [
      "year is a leap year\n"
     ]
    }
   ],
   "source": [
    "isLeapyear(2008)"
   ]
  },
  {
   "cell_type": "code",
   "execution_count": 9,
   "metadata": {},
   "outputs": [],
   "source": [
    "## Number divisible by 10 but not by 4\n",
    "def isdivisible(number):\n",
    "    if(number%10==0) & (number%4!=0):\n",
    "        print(\"number is divisible by 10 \")\n",
    "    else:\n",
    "        print(\" number is divisible by 4 \")\n"
   ]
  },
  {
   "cell_type": "code",
   "execution_count": 11,
   "metadata": {},
   "outputs": [
    {
     "name": "stdout",
     "output_type": "stream",
     "text": [
      "number is divisible by 10 \n"
     ]
    }
   ],
   "source": [
    "isdivisible(30)"
   ]
  },
  {
   "cell_type": "code",
   "execution_count": 12,
   "metadata": {},
   "outputs": [],
   "source": [
    "## inititalization\n",
    "## while(codition):\n",
    "## increment"
   ]
  },
  {
   "cell_type": "code",
   "execution_count": 13,
   "metadata": {},
   "outputs": [],
   "source": [
    "## for (insitialization,condition,increment):"
   ]
  },
  {
   "cell_type": "code",
   "execution_count": 20,
   "metadata": {},
   "outputs": [
    {
     "name": "stdout",
     "output_type": "stream",
     "text": [
      "1\n",
      "2\n",
      "3\n",
      "4\n",
      "5\n",
      "6\n",
      "7\n",
      "8\n",
      "9\n",
      "10\n"
     ]
    }
   ],
   "source": [
    "def naturalnumbers(n):\n",
    "    for i in range(1,n+1):\n",
    "        print(i)\n",
    "naturalnumbers(10)        "
   ]
  },
  {
   "cell_type": "code",
   "execution_count": 21,
   "metadata": {},
   "outputs": [
    {
     "name": "stdout",
     "output_type": "stream",
     "text": [
      "1\n",
      "5\n",
      "9\n"
     ]
    }
   ],
   "source": [
    "def naturalnumbers(n):\n",
    "    for i in range(1,n+1,4):\n",
    "        print(i)\n",
    "naturalnumbers(10) "
   ]
  },
  {
   "cell_type": "code",
   "execution_count": 37,
   "metadata": {},
   "outputs": [],
   "source": [
    "## write a program to print all the even numbers\n",
    "def naturalnumbers(n):\n",
    "    for i in range(2,n+1,2):\n",
    "        print(i)   "
   ]
  },
  {
   "cell_type": "code",
   "execution_count": 38,
   "metadata": {},
   "outputs": [
    {
     "name": "stdout",
     "output_type": "stream",
     "text": [
      "2\n",
      "4\n",
      "6\n",
      "8\n",
      "10\n",
      "12\n",
      "14\n",
      "16\n",
      "18\n",
      "20\n"
     ]
    }
   ],
   "source": [
    "naturalnumbers(20)"
   ]
  },
  {
   "cell_type": "code",
   "execution_count": 55,
   "metadata": {},
   "outputs": [],
   "source": [
    "## write a program to print all the odd numbers\n",
    "def naturalnumbers(n):\n",
    "    for i in range(1,n+1,6):\n",
    "        print(i)"
   ]
  },
  {
   "cell_type": "code",
   "execution_count": 56,
   "metadata": {},
   "outputs": [
    {
     "name": "stdout",
     "output_type": "stream",
     "text": [
      "1\n",
      "7\n",
      "13\n",
      "19\n",
      "25\n",
      "31\n",
      "37\n"
     ]
    }
   ],
   "source": [
    "naturalnumbers(40)"
   ]
  },
  {
   "cell_type": "code",
   "execution_count": 59,
   "metadata": {},
   "outputs": [],
   "source": [
    "# write a program to  print factors of n\n",
    "def isfactors(n):\n",
    "    for i in range(1,7):\n",
    "        if(n%i==0):\n",
    "            print(i)           "
   ]
  },
  {
   "cell_type": "code",
   "execution_count": 60,
   "metadata": {},
   "outputs": [
    {
     "name": "stdout",
     "output_type": "stream",
     "text": [
      "1\n",
      "2\n",
      "3\n",
      "6\n"
     ]
    }
   ],
   "source": [
    "isfactors(6)"
   ]
  },
  {
   "cell_type": "code",
   "execution_count": 63,
   "metadata": {},
   "outputs": [],
   "source": [
    "## write a program to find factorial of n\n",
    "def factorial(n):\n",
    "    fa=1\n",
    "    for i in range(1,n+1):\n",
    "        fa=fa * i\n",
    "        print(fa)"
   ]
  },
  {
   "cell_type": "code",
   "execution_count": 64,
   "metadata": {},
   "outputs": [
    {
     "name": "stdout",
     "output_type": "stream",
     "text": [
      "1\n",
      "2\n",
      "6\n",
      "24\n",
      "120\n",
      "720\n"
     ]
    }
   ],
   "source": [
    "factorial(6) "
   ]
  },
  {
   "cell_type": "code",
   "execution_count": null,
   "metadata": {},
   "outputs": [],
   "source": []
  }
 ],
 "metadata": {
  "kernelspec": {
   "display_name": "Python 3",
   "language": "python",
   "name": "python3"
  },
  "language_info": {
   "codemirror_mode": {
    "name": "ipython",
    "version": 3
   },
   "file_extension": ".py",
   "mimetype": "text/x-python",
   "name": "python",
   "nbconvert_exporter": "python",
   "pygments_lexer": "ipython3",
   "version": "3.6.5"
  }
 },
 "nbformat": 4,
 "nbformat_minor": 2
}
