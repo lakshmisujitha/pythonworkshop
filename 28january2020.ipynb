{
 "cells": [
  {
   "cell_type": "code",
   "execution_count": 69,
   "metadata": {},
   "outputs": [
    {
     "name": "stdout",
     "output_type": "stream",
     "text": [
      "data in line 1\n",
      "data in line 2\n",
      "data in line 3\n"
     ]
    }
   ],
   "source": [
    "## File handling \n",
    "## write to read entire file data into a single string-character process\n",
    " #Reads the entire file data into a string\n",
    "def readfile(filepath):\n",
    "    with open(filepath,'r') as f:\n",
    "        filedata=f.read()\n",
    "        return filedata\n",
    "filepath='data.txt'\n",
    "print(readfile(filepath))"
   ]
  },
  {
   "cell_type": "code",
   "execution_count": 6,
   "metadata": {},
   "outputs": [
    {
     "data": {
      "text/plain": [
       "['data in line 1', 'data in line 2', 'data in line 3']"
      ]
     },
     "execution_count": 6,
     "metadata": {},
     "output_type": "execute_result"
    }
   ],
   "source": [
    "# function to read a file into a list of lines\n",
    "# Each element in the list is one line in the file-line processing\n",
    "def readFileIntoList(filepath):\n",
    "    with open(filepath, 'r') as f:\n",
    "        filedata=f.read()\n",
    "        lines=filedata.split('\\n')\n",
    "        #line\n",
    "        #for line in f:\n",
    "           #lines.append(line)\n",
    "    return lines\n",
    "filepath='data.txt'\n",
    "readFileIntoList(filepath)"
   ]
  },
  {
   "cell_type": "code",
   "execution_count": 7,
   "metadata": {},
   "outputs": [
    {
     "data": {
      "text/plain": [
       "3"
      ]
     },
     "execution_count": 7,
     "metadata": {},
     "output_type": "execute_result"
    }
   ],
   "source": [
    "#Function to count number of lines in a file\n",
    "\n",
    "def countLinesFile(filepath):\n",
    "    count = len(readFileIntoList(filepath))\n",
    "    return count\n",
    "countLinesFile(filepath)"
   ]
  },
  {
   "cell_type": "code",
   "execution_count": 8,
   "metadata": {},
   "outputs": [
    {
     "data": {
      "text/plain": [
       "44"
      ]
     },
     "execution_count": 8,
     "metadata": {},
     "output_type": "execute_result"
    }
   ],
   "source": [
    "# Function to count the number of character in a file\n",
    "def charCountFile(filepath):\n",
    "    count=len(readfile(filepath))\n",
    "    return count\n",
    "charCountFile(filepath)"
   ]
  },
  {
   "cell_type": "code",
   "execution_count": 11,
   "metadata": {},
   "outputs": [],
   "source": [
    "from random import randint\n",
    "\n",
    "def generateMarks(n,lb,ub):\n",
    "    filename='marks.txt'\n",
    "    with open(filename,'w') as f:\n",
    "        for i in range (n):\n",
    "            marks = randint(lb,ub)\n",
    "            f.write(str(marks)+'\\n')\n",
    "    return\n",
    "\n",
    "generateMarks(10,0,100)"
   ]
  },
  {
   "cell_type": "code",
   "execution_count": 13,
   "metadata": {},
   "outputs": [
    {
     "data": {
      "text/plain": [
       "62"
      ]
     },
     "execution_count": 13,
     "metadata": {},
     "output_type": "execute_result"
    }
   ],
   "source": [
    "#marks Analysis\n",
    " #Class Average,\n",
    "    #% of  passed , Failed and Distinction\n",
    "    #Frequency of Highest & Lowest Marks\n",
    "def readmarkslist(filepath):\n",
    "    with open(filepath,'r') as f:\n",
    "        filedata = f.read().split()\n",
    "    return list(map(int,filedata))\n",
    "\n",
    "def classAverage(filepath):\n",
    "    markslist= readmarkslist(filepath)\n",
    "    return sum(markslist)//len(markslist)\n",
    "\n",
    "filepath = 'marks.txt'\n",
    "classAverage(filepath)"
   ]
  },
  {
   "cell_type": "code",
   "execution_count": 19,
   "metadata": {},
   "outputs": [
    {
     "data": {
      "text/plain": [
       "10.0"
      ]
     },
     "execution_count": 19,
     "metadata": {},
     "output_type": "execute_result"
    }
   ],
   "source": [
    "def percentagefailed(filepath):\n",
    "    markslist = readmarkslist(filepath)\n",
    "    failedcount = len(list(filter(lambda mark : mark < 40,markslist)))\n",
    "    return(failedcount/len(markslist))*100\n",
    "\n",
    "percentagefailed(filepath)"
   ]
  },
  {
   "cell_type": "code",
   "execution_count": 20,
   "metadata": {},
   "outputs": [
    {
     "data": {
      "text/plain": [
       "90.0"
      ]
     },
     "execution_count": 20,
     "metadata": {},
     "output_type": "execute_result"
    }
   ],
   "source": [
    "def percentagepassed(filepath):\n",
    "    return 100-percentagefailed(filepath)\n",
    "percentagepassed(filepath)"
   ]
  },
  {
   "cell_type": "code",
   "execution_count": 22,
   "metadata": {},
   "outputs": [
    {
     "data": {
      "text/plain": [
       "60.0"
      ]
     },
     "execution_count": 22,
     "metadata": {},
     "output_type": "execute_result"
    }
   ],
   "source": [
    "def percentagedistinction(filepath):\n",
    "    markslist = readmarkslist(filepath)\n",
    "    distinctioncount = len(list(filter(lambda mark: mark < 70, markslist)))\n",
    "    return (distinctioncount/len(markslist))*100\n",
    "percentagedistinction(filepath)"
   ]
  },
  {
   "cell_type": "code",
   "execution_count": 23,
   "metadata": {},
   "outputs": [
    {
     "data": {
      "text/plain": [
       "True"
      ]
     },
     "execution_count": 23,
     "metadata": {},
     "output_type": "execute_result"
    }
   ],
   "source": [
    "import re\n",
    "\n",
    "def phonenumbervalidator(number):\n",
    "    pattern = '^[6-9][0-9]{9}$|^[0][6-9][0-9]{9}|^[+][9][1][6-9][0-9]{9}$'\n",
    "    if re.match(pattern, str(number)):\n",
    "        return True\n",
    "    return False\n",
    "phonenumbervalidator(9963656985)\n",
    "\n"
   ]
  },
  {
   "cell_type": "code",
   "execution_count": 27,
   "metadata": {},
   "outputs": [
    {
     "data": {
      "text/plain": [
       "True"
      ]
     },
     "execution_count": 27,
     "metadata": {},
     "output_type": "execute_result"
    }
   ],
   "source": [
    "def emailvalidator(email):\n",
    "    pattern = \"^[0-9a-z][0-9a-z_.]{4,13}[0-9a-z][@][a-z0-9]{3,18}[.][a-z]{2,4}$\"\n",
    "    if re.match(pattern,email):\n",
    "        return True\n",
    "    return False\n",
    "\n",
    "emailvalidator(\"s12345@gmail.com\")"
   ]
  },
  {
   "cell_type": "code",
   "execution_count": 29,
   "metadata": {},
   "outputs": [
    {
     "name": "stdout",
     "output_type": "stream",
     "text": [
      "name3 added successfully\n"
     ]
    }
   ],
   "source": [
    "contacts={\"name1\":[9876543210,\"name1@domain.ext\"],\"name2\":[7654321098, 'name2@domain.ext']}\n",
    "def addcontact(name,phone,email):\n",
    "    if name in contacts:    #verify that the contact doesnot already exist\n",
    "        print(name,\"already exists.\")\n",
    "        return\n",
    "    else:\n",
    "        if not phonenumbervalidator(phone):\n",
    "            print(\"invalid phone number\")\n",
    "            return\n",
    "        newcontact = []\n",
    "        newcontact.append(phone)\n",
    "        newcontact.append(email)\n",
    "        contacts[name] =newcontact\n",
    "        print(name,\"added successfully\")\n",
    "        return\n",
    "    \n",
    "addcontact(\"name3\",9876543211, \"name321@gmail.com\")"
   ]
  },
  {
   "cell_type": "code",
   "execution_count": 35,
   "metadata": {},
   "outputs": [
    {
     "name": "stdout",
     "output_type": "stream",
     "text": [
      "name1\n",
      "phone : 9876543210\n",
      "Email : name1@domain.ext\n"
     ]
    }
   ],
   "source": [
    "def searchcontacts(name):\n",
    "    if name in contacts:\n",
    "        print(name)\n",
    "        print(\"phone :\", contacts[name][0])\n",
    "        print(\"Email :\", contacts[name][1])\n",
    "    else:\n",
    "        print(\"%doesn't exist\" %name)\n",
    "        return\n",
    "searchcontacts(\"name1\")"
   ]
  },
  {
   "cell_type": "code",
   "execution_count": 37,
   "metadata": {},
   "outputs": [
    {
     "name": "stdout",
     "output_type": "stream",
     "text": [
      "1 contacts added sucessfully\n"
     ]
    },
    {
     "data": {
      "text/plain": [
       "dict_items([('name1', [9876543210, 'name1@domain.ext']), ('name2', [7654321098, 'name2@domain.ext']), ('name3', [9876543211, 'name321@gmail.com']), ('name4', [9753108642, 'name4_123@gmail.com'])])"
      ]
     },
     "execution_count": 37,
     "metadata": {},
     "output_type": "execute_result"
    }
   ],
   "source": [
    "#new contacts is given as a dictionary\n",
    "#merage new contact with exiting contacts\n",
    "def importcontacts(newcontacts):\n",
    "    contacts.update(newcontacts)\n",
    "    print(len(newcontacts.keys()),\"contacts added sucessfully\")\n",
    "    return\n",
    "newcontacts = {\"name4\":[9753108642,\"name4_123@gmail.com\"]}\n",
    "\n",
    "importcontacts(newcontacts)\n",
    "contacts.items()"
   ]
  },
  {
   "cell_type": "code",
   "execution_count": 40,
   "metadata": {},
   "outputs": [
    {
     "name": "stdout",
     "output_type": "stream",
     "text": [
      "name1 \n",
      " phone : 9876543210 \n",
      " Email : name1@domain.ext\n",
      "name2 \n",
      " phone : 7654321098 \n",
      " Email : name2@domain.ext\n",
      "name3 \n",
      " phone : 9876543211 \n",
      " Email : name321@gmail.com\n",
      "name4 \n",
      " phone : 9753108642 \n",
      " Email : name4_123@gmail.com\n"
     ]
    }
   ],
   "source": [
    "#Function to list all contacts\n",
    "\n",
    "def listallcontacts():\n",
    "    for contact, info in contacts.items():\n",
    "        print(contact,\"\\n\",\"phone :\",info[0],\"\\n\",\"Email :\",info[1])\n",
    "    return\n",
    "listallcontacts()"
   ]
  },
  {
   "cell_type": "markdown",
   "metadata": {},
   "source": [
    "# List compreshension"
   ]
  },
  {
   "cell_type": "markdown",
   "metadata": {},
   "source": [
    "### list is data sperate by ,(comma) within barces\n",
    "#### By using the list compreshension we can reduces the code "
   ]
  },
  {
   "cell_type": "code",
   "execution_count": 44,
   "metadata": {},
   "outputs": [
    {
     "data": {
      "text/plain": [
       "[1, 2, 3, 4, 5, 6, 7, 8, 9, 10]"
      ]
     },
     "execution_count": 44,
     "metadata": {},
     "output_type": "execute_result"
    }
   ],
   "source": [
    "a=[]\n",
    "for i in range(1,11):\n",
    "    a.append(i)\n",
    "a"
   ]
  },
  {
   "cell_type": "code",
   "execution_count": 45,
   "metadata": {},
   "outputs": [
    {
     "data": {
      "text/plain": [
       "[10, 11, 12, 13, 14, 15, 16, 17, 18, 19, 20]"
      ]
     },
     "execution_count": 45,
     "metadata": {},
     "output_type": "execute_result"
    }
   ],
   "source": [
    "a=[j for j in range(10,21)] #using list compreshension\n",
    "a"
   ]
  },
  {
   "cell_type": "code",
   "execution_count": 49,
   "metadata": {},
   "outputs": [
    {
     "data": {
      "text/plain": [
       "[10, 12, 14, 16, 18, 20]"
      ]
     },
     "execution_count": 49,
     "metadata": {},
     "output_type": "execute_result"
    }
   ],
   "source": [
    "a=[j for j in range(10,21) if j%2==0]\n",
    "a"
   ]
  },
  {
   "cell_type": "code",
   "execution_count": 56,
   "metadata": {},
   "outputs": [
    {
     "data": {
      "text/plain": [
       "[2004, 2008, 2012, 2016, 2020, 2024, 2028, 2032, 2036, 2040, 2044, 2048]"
      ]
     },
     "execution_count": 56,
     "metadata": {},
     "output_type": "execute_result"
    }
   ],
   "source": [
    "a=[i for i in range(2002,2050) if i%400==0 or (i%4==0 and i%100!=0)]\n",
    "a"
   ]
  },
  {
   "cell_type": "code",
   "execution_count": 57,
   "metadata": {},
   "outputs": [
    {
     "data": {
      "text/plain": [
       "['once',\n",
       " 'upon',\n",
       " 'a',\n",
       " 'time',\n",
       " 'there',\n",
       " 'is',\n",
       " 'a',\n",
       " 'brava',\n",
       " 'girl',\n",
       " 'in',\n",
       " 'mexican',\n",
       " 'city']"
      ]
     },
     "execution_count": 57,
     "metadata": {},
     "output_type": "execute_result"
    }
   ],
   "source": [
    "s=\"once upon a time there is a brava girl in mexican city\"\n",
    "s.split()"
   ]
  },
  {
   "cell_type": "code",
   "execution_count": 60,
   "metadata": {},
   "outputs": [
    {
     "data": {
      "text/plain": [
       "['o',\n",
       " 'n',\n",
       " 'c',\n",
       " 'e',\n",
       " ' ',\n",
       " 'u',\n",
       " 'p',\n",
       " 'o',\n",
       " 'n',\n",
       " ' ',\n",
       " 'a',\n",
       " ' ',\n",
       " 't',\n",
       " 'i',\n",
       " 'm',\n",
       " 'e',\n",
       " ' ',\n",
       " 't',\n",
       " 'h',\n",
       " 'e',\n",
       " 'r',\n",
       " 'e',\n",
       " ' ',\n",
       " 'i',\n",
       " 's',\n",
       " ' ',\n",
       " 'a',\n",
       " ' ',\n",
       " 'b',\n",
       " 'r',\n",
       " 'a',\n",
       " 'v',\n",
       " 'a',\n",
       " ' ',\n",
       " 'g',\n",
       " 'i',\n",
       " 'r',\n",
       " 'l',\n",
       " ' ',\n",
       " 'i',\n",
       " 'n',\n",
       " ' ',\n",
       " 'm',\n",
       " 'e',\n",
       " 'x',\n",
       " 'i',\n",
       " 'c',\n",
       " 'a',\n",
       " 'n',\n",
       " ' ',\n",
       " 'c',\n",
       " 'i',\n",
       " 't',\n",
       " 'y']"
      ]
     },
     "execution_count": 60,
     "metadata": {},
     "output_type": "execute_result"
    }
   ],
   "source": [
    "m=[j for j in s]\n",
    "m"
   ]
  },
  {
   "cell_type": "code",
   "execution_count": 67,
   "metadata": {},
   "outputs": [
    {
     "name": "stdout",
     "output_type": "stream",
     "text": [
      "once\n",
      "upon\n",
      "a\n",
      "time\n",
      "there\n",
      "is\n",
      "a\n",
      "brava\n",
      "girl\n",
      "in\n",
      "mexican\n",
      "city\n"
     ]
    }
   ],
   "source": [
    "for j in s.split():\n",
    "    print(j)"
   ]
  },
  {
   "cell_type": "code",
   "execution_count": 75,
   "metadata": {},
   "outputs": [
    {
     "data": {
      "text/plain": [
       "['once',\n",
       " 'upon',\n",
       " 'a',\n",
       " 'time',\n",
       " 'there',\n",
       " 'is',\n",
       " 'a',\n",
       " 'brava',\n",
       " 'girl',\n",
       " 'in',\n",
       " 'mexican',\n",
       " 'city']"
      ]
     },
     "execution_count": 75,
     "metadata": {},
     "output_type": "execute_result"
    }
   ],
   "source": [
    "m=[j for j in s.split()]\n",
    "m"
   ]
  },
  {
   "cell_type": "code",
   "execution_count": 68,
   "metadata": {},
   "outputs": [
    {
     "data": {
      "text/plain": [
       "['time', 'is', 'girl', 'in', 'mexican', 'city']"
      ]
     },
     "execution_count": 68,
     "metadata": {},
     "output_type": "execute_result"
    }
   ],
   "source": [
    "import re\n",
    "m=[j for j in s.split() if re.search(\"i\",j)]\n",
    "m"
   ]
  },
  {
   "cell_type": "code",
   "execution_count": 73,
   "metadata": {},
   "outputs": [
    {
     "name": "stdout",
     "output_type": "stream",
     "text": [
      "['sujitha']\n",
      "['python', 'work', 'shop']\n"
     ]
    }
   ],
   "source": [
    "with open(\"my_file.txt\", \"r\") as my_file:\n",
    "  for line in my_file:\n",
    "      str = line.split()\n",
    "      print(str)\n"
   ]
  },
  {
   "cell_type": "code",
   "execution_count": 76,
   "metadata": {},
   "outputs": [
    {
     "name": "stdout",
     "output_type": "stream",
     "text": [
      "sujitha\n",
      "python\n",
      "work\n",
      "shop\n"
     ]
    }
   ],
   "source": [
    "with open(\"my_file.txt\", \"r\") as f:\n",
    "    filedata=f.read()\n",
    "    for i in filedata.split():\n",
    "        print(i)"
   ]
  },
  {
   "cell_type": "code",
   "execution_count": 78,
   "metadata": {},
   "outputs": [
    {
     "name": "stdout",
     "output_type": "stream",
     "text": [
      "s\n",
      "u\n",
      "j\n",
      "i\n",
      "t\n",
      "h\n",
      "a\n",
      "\n",
      "\n",
      "p\n",
      "y\n",
      "t\n",
      "h\n",
      "o\n",
      "n\n",
      " \n",
      "w\n",
      "o\n",
      "r\n",
      "k\n",
      " \n",
      "s\n",
      "h\n",
      "o\n",
      "p\n"
     ]
    }
   ],
   "source": [
    "with open(\"my_file.txt\", \"r\") as f:\n",
    "    filedata=f.read()\n",
    "    for i in filedata:\n",
    "        print(i)"
   ]
  },
  {
   "cell_type": "code",
   "execution_count": 80,
   "metadata": {},
   "outputs": [
    {
     "data": {
      "text/plain": [
       "['sujitha']"
      ]
     },
     "execution_count": 80,
     "metadata": {},
     "output_type": "execute_result"
    }
   ],
   "source": [
    "with open(\"my_file.txt\", \"r\") as f:\n",
    "    filedata=f.read()\n",
    "    x=[i for i in filedata.split() if re.search(\"i\",i)]\n",
    "x"
   ]
  },
  {
   "cell_type": "code",
   "execution_count": 82,
   "metadata": {},
   "outputs": [
    {
     "data": {
      "text/plain": [
       "['sujitha']"
      ]
     },
     "execution_count": 82,
     "metadata": {},
     "output_type": "execute_result"
    }
   ],
   "source": [
    "y=[i for i in filedata.split() if re.search(\"a\",i)]\n",
    "y"
   ]
  },
  {
   "cell_type": "markdown",
   "metadata": {},
   "source": [
    "# Dictionary comprehension"
   ]
  },
  {
   "cell_type": "code",
   "execution_count": 1,
   "metadata": {},
   "outputs": [
    {
     "data": {
      "text/plain": [
       "{'ab': 1, 'abb': 2, 'acd': 8, 'abd': 9, 'klm': 7}"
      ]
     },
     "execution_count": 1,
     "metadata": {},
     "output_type": "execute_result"
    }
   ],
   "source": [
    "list1=[1,2,8,9,7]\n",
    "list2=[\"ab\",\"abb\",\"acd\",\"abd\",\"klm\"]\n",
    "dict2={m:n for m,n in zip(list2,list1)}\n",
    "dict2"
   ]
  },
  {
   "cell_type": "code",
   "execution_count": 2,
   "metadata": {},
   "outputs": [
    {
     "data": {
      "text/plain": [
       "{'a': 1, 'b': 2, 'c': 3, 'd': 8, 'h': 5}"
      ]
     },
     "execution_count": 2,
     "metadata": {},
     "output_type": "execute_result"
    }
   ],
   "source": [
    "d={'a':1,'b':2,'c':3,'d':8,'h':5}\n",
    "dict1={k:v for k,v in d.items()}\n",
    "dict1"
   ]
  },
  {
   "cell_type": "code",
   "execution_count": null,
   "metadata": {},
   "outputs": [],
   "source": []
  }
 ],
 "metadata": {
  "kernelspec": {
   "display_name": "Python 3",
   "language": "python",
   "name": "python3"
  },
  "language_info": {
   "codemirror_mode": {
    "name": "ipython",
    "version": 3
   },
   "file_extension": ".py",
   "mimetype": "text/x-python",
   "name": "python",
   "nbconvert_exporter": "python",
   "pygments_lexer": "ipython3",
   "version": "3.6.5"
  }
 },
 "nbformat": 4,
 "nbformat_minor": 2
}
